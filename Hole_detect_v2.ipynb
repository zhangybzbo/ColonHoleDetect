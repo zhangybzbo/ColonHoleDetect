{
 "cells": [
  {
   "cell_type": "code",
   "execution_count": 1,
   "metadata": {},
   "outputs": [],
   "source": [
    "import open3d\n",
    "import numpy as np"
   ]
  },
  {
   "cell_type": "code",
   "execution_count": 2,
   "metadata": {},
   "outputs": [],
   "source": [
    "#  create cylinder\n",
    "cyl = open3d.geometry.PointCloud()\n",
    "for i in range(4000):\n",
    "    x = np.random.uniform(0, 0.6) * 2 - 0.6\n",
    "    y = np.sqrt(0.36 - np.square(x)) * np.random.choice([1, -1], 1)\n",
    "    z = np.random.uniform(0, 3)\n",
    "    cyl.points.append([x,y,z])\n",
    "# cyl_mesh = open3d.geometry.TriangleMesh.create_cylinder(radius=0.2, height=1)\n",
    "# cyl.points = cyl_mesh.vertices\n",
    "# cyl.colors = cyl_mesh.vertex_colors\n",
    "# cyl.normals = cyl_mesh.vertex_normals\n",
    "open3d.visualization.draw_geometries([cyl], point_show_normal=True)"
   ]
  },
  {
   "cell_type": "code",
   "execution_count": 3,
   "metadata": {},
   "outputs": [],
   "source": [
    "# read chuck\n",
    "mesh = open3d.io.read_triangle_mesh(\"../mesh/mesh_i1_n0.4.obj\")\n",
    "pc = open3d.geometry.PointCloud()\n",
    "pc.points = mesh.vertices\n",
    "pc.colors = mesh.vertex_colors\n",
    "pc.normals = mesh.vertex_normals\n",
    "# R = np.array([[1, 0, 0], [0, np.cos(1.5), -np.sin(1.5)], [0, np.sin(1.5), np.cos(1.5)]])\n",
    "# pc.rotate(R, [0,0,0])"
   ]
  },
  {
   "cell_type": "code",
   "execution_count": 4,
   "metadata": {},
   "outputs": [],
   "source": [
    "# normal estimation\n",
    "downpcd = pc.voxel_down_sample(voxel_size=0.05)\n",
    "downpcd.estimate_normals(search_param=open3d.geometry.KDTreeSearchParamHybrid(radius=0.1, max_nn=30))\n",
    "downpcd.normalize_normals()\n",
    "downpcd.orient_normals_to_align_with_direction([1, 0,0])\n",
    "open3d.visualization.draw_geometries([downpcd], \n",
    "                                  point_show_normal=True)\n",
    "# print(np.asarray(downpcd.normals))"
   ]
  },
  {
   "cell_type": "code",
   "execution_count": null,
   "metadata": {},
   "outputs": [],
   "source": [
    "print(len(pc.points), len(downpcd.points))"
   ]
  },
  {
   "cell_type": "code",
   "execution_count": null,
   "metadata": {},
   "outputs": [],
   "source": [
    "# find KDTree\n",
    "def KDTree(downpcd):\n",
    "    downpcd.paint_uniform_color([0, 0, 0])\n",
    "    pcd_tree = open3d.geometry.KDTreeFlann(downpcd)\n",
    "    downpcd.colors[2000] = [0, 1, 0]\n",
    "    [k, idx, dist] = pcd_tree.search_radius_vector_3d(downpcd.points[2000], 0.5)\n",
    "    # [k2, idx2, dist2] = pcd_tree.search_radius_vector_3d(downpcd.points[2000], 0.2)\n",
    "    # for i in idx2:\n",
    "    #     if i in idx:\n",
    "    #         idx.remove(i)\n",
    "    np.asarray(downpcd.colors)[idx[1:], :] = [1, 0, 0]\n",
    "    open3d.visualization.draw_geometries([downpcd])\n",
    "KDTree(downpcd)"
   ]
  },
  {
   "cell_type": "code",
   "execution_count": null,
   "metadata": {},
   "outputs": [],
   "source": []
  },
  {
   "cell_type": "code",
   "execution_count": null,
   "metadata": {},
   "outputs": [],
   "source": []
  },
  {
   "cell_type": "code",
   "execution_count": 5,
   "metadata": {},
   "outputs": [],
   "source": [
    "def ComputeCovariance(demo, idx):\n",
    "    points = np.asarray(demo.points)\n",
    "    neighbors = points[idx]\n",
    "    covariance = np.zeros((3, 3))\n",
    "    cumulants = np.zeros(9)\n",
    "    cumulants[:3] = np.mean(neighbors, axis=0)\n",
    "    dots = neighbors * neighbors\n",
    "    cumulants[3], cumulants[6], cumulants[8] = np.mean(dots, axis=0)\n",
    "    cumulants[4] = np.mean(neighbors[:, 0] * neighbors[:, 1])\n",
    "    cumulants[5] = np.mean(neighbors[:, 0] * neighbors[:, 2])\n",
    "    cumulants[7] = np.mean(neighbors[:, 1] * neighbors[:, 2])\n",
    "    \n",
    "    '''\n",
    "    for i in range(len(idx)):\n",
    "        point = demo.points[idx[i]]\n",
    "        cumulants[0] += point[0]\n",
    "        cumulants[1] += point[1]\n",
    "        cumulants[2] += point[2]\n",
    "        cumulants[3] += point[0] * point[0]\n",
    "        cumulants[4] += point[0] * point[1]\n",
    "        cumulants[5] += point[0] * point[2]\n",
    "        cumulants[6] += point[1] * point[1]\n",
    "        cumulants[7] += point[1] * point[2]\n",
    "        cumulants[8] += point[2] * point[2]\n",
    "    cumulants /= len(idx)\n",
    "    '''\n",
    "        \n",
    "    covariance[0, 0] = cumulants[3] - cumulants[0] * cumulants[0]\n",
    "    covariance[1, 1] = cumulants[6] - cumulants[1] * cumulants[1]\n",
    "    covariance[2, 2] = cumulants[8] - cumulants[2] * cumulants[2]\n",
    "    covariance[0, 1] = cumulants[4] - cumulants[0] * cumulants[1]\n",
    "    covariance[1, 0] = covariance[0, 1]\n",
    "    covariance[0, 2] = cumulants[5] - cumulants[0] * cumulants[2] \n",
    "    covariance[2, 0] = covariance[0, 2]\n",
    "    covariance[1, 2] = cumulants[7] - cumulants[1] * cumulants[2] \n",
    "    covariance[2, 1] = covariance[1, 2]\n",
    "    \n",
    "    w, v = np.linalg.eig(covariance)\n",
    "    ind = np.argsort(w, axis=0)\n",
    "    w = w[ind]\n",
    "    v = v[:, ind]\n",
    "    return w, v\n",
    "\n",
    "def ComputeCovarianceDist(demo, idx, dists, h=0.2):\n",
    "    assert len(idx) == len(dists)\n",
    "    covariance = np.zeros((3, 3))\n",
    "    cumulants = np.zeros(10)\n",
    "    for i in range(len(idx)):\n",
    "        point = demo.points[idx[i]]\n",
    "        d = np.exp(-dists[i] / np.square(h))\n",
    "        cumulants[0] += point[0] * d # Ex\n",
    "        cumulants[1] += point[1] * d # Ey\n",
    "        cumulants[2] += point[2] * d # Ez\n",
    "        cumulants[3] += point[0] * point[0] * d # Ex^2d\n",
    "        cumulants[4] += point[0] * point[1] * d # Exyd\n",
    "        cumulants[5] += point[0] * point[2] * d # Exzd\n",
    "        cumulants[6] += point[1] * point[1] * d # Ey^2d\n",
    "        cumulants[7] += point[1] * point[2] * d # Eyzd\n",
    "        cumulants[8] += point[2] * point[2] * d # Ez^2d\n",
    "        cumulants[9] += d\n",
    "        \n",
    "    cumulants /= len(idx)\n",
    "    covariance[0, 0] = cumulants[3] + cumulants[0] * cumulants[0] * (cumulants[9] - 2)\n",
    "    covariance[1, 1] = cumulants[6] + cumulants[1] * cumulants[1] * (cumulants[9] - 2)\n",
    "    covariance[2, 2] = cumulants[8] + cumulants[2] * cumulants[2] * (cumulants[9] - 2)\n",
    "    covariance[0, 1] = cumulants[4] + cumulants[0] * cumulants[1] * (cumulants[9] - 2)\n",
    "    covariance[1, 0] = covariance[0, 1]\n",
    "    covariance[0, 2] = cumulants[5] + cumulants[0] * cumulants[2] * (cumulants[9] - 2)\n",
    "    covariance[2, 0] = covariance[0, 2]\n",
    "    covariance[1, 2] = cumulants[7] + cumulants[1] * cumulants[2] * (cumulants[9] - 2)\n",
    "    covariance[2, 1] = covariance[1, 2]\n",
    "    \n",
    "    w, v = np.linalg.eig(covariance)\n",
    "    ind = np.argsort(w, axis=0)\n",
    "    w = w[ind]\n",
    "    v = v[:, ind]\n",
    "    return w, v"
   ]
  },
  {
   "cell_type": "code",
   "execution_count": 7,
   "metadata": {},
   "outputs": [
    {
     "name": "stdout",
     "output_type": "stream",
     "text": [
      "[[0.00461878 0.07260774 0.0965305 ]\n",
      " [0.00672967 0.06984437 0.1043777 ]\n",
      " [0.00472092 0.06971613 0.09968684]\n",
      " ...\n",
      " [0.00386457 0.06372675 0.09179247]\n",
      " [0.00465965 0.07234876 0.09652225]\n",
      " [0.00473298 0.0705254  0.09677811]]\n"
     ]
    }
   ],
   "source": [
    "def GetDir(demo, r, principle=False):\n",
    "    pcd_tree = open3d.geometry.KDTreeFlann(demo)\n",
    "    has_norm = demo.has_normals()\n",
    "    eigenvalues = []\n",
    "    for i in range(len(demo.points)):\n",
    "        # create ring\n",
    "        [k, idx, dist] = pcd_tree.search_radius_vector_3d(demo.points[i], r)\n",
    "        [k2, idx2, dist2] = pcd_tree.search_radius_vector_3d(demo.points[i], r/5)\n",
    "        assert idx[k2-1] == idx2[k2-1]\n",
    "        k = k - k2\n",
    "        idx = idx[k2:]\n",
    "        dist = dist[k2:]\n",
    "        \n",
    "        if k >= 3:\n",
    "            w, v = ComputeCovariance(demo, idx)\n",
    "            if principle:\n",
    "                if w[2] < r**2/4 or w[1] < w[2]*2/3:\n",
    "                # if False:\n",
    "                    normal = [0., 0., 0.]\n",
    "                else:\n",
    "                    eigenvalues.append(w)\n",
    "                    normal = v[:, 2].reshape(3) \n",
    "                    if normal[2]<0:\n",
    "                        normal = -normal\n",
    "            else:\n",
    "                normal = v[:, 0].reshape(3)\n",
    "            if np.linalg.norm(normal) == 0.0:\n",
    "                normal = [0., 0., 0.]\n",
    "            if has_norm:\n",
    "                demo.normals[i] = normal\n",
    "            else:\n",
    "                demo.normals.append(normal)\n",
    "                \n",
    "        else:\n",
    "            print(i)\n",
    "            if has_norm:\n",
    "                demo.normals[i] = [0., 0., 0.]\n",
    "            else:\n",
    "                demo.normals.append([0., 0., 0.])\n",
    "\n",
    "    if not principle:\n",
    "        demo.orient_normals_to_align_with_direction([1, 0,0])\n",
    "    # demo.orient_normals_to_align_with_direction([0, 0, 1])\n",
    "    open3d.visualization.draw_geometries([demo], point_show_normal=True)\n",
    "    # print(np.asarray(demo.normals))\n",
    "    \n",
    "    return eigenvalues\n",
    "    \n",
    "eigen = GetDir(cyl, 0.6, True)\n",
    "print(np.array(eigen))"
   ]
  },
  {
   "cell_type": "code",
   "execution_count": null,
   "metadata": {},
   "outputs": [],
   "source": [
    "order = np.argsort(np.asarray(np.array(eigen))[:, 2])\n",
    "sortedpoints = np.array(eigen)[order]\n",
    "print(sortedpoints)\n",
    "print(sortedpoints.shape)"
   ]
  },
  {
   "cell_type": "code",
   "execution_count": null,
   "metadata": {},
   "outputs": [],
   "source": [
    "open3d.visualization.draw_geometries([downpcd], point_show_normal=True)"
   ]
  },
  {
   "cell_type": "code",
   "execution_count": null,
   "metadata": {},
   "outputs": [],
   "source": [
    "open3d.visualization.draw_geometries([cyl], point_show_normal=True)"
   ]
  },
  {
   "cell_type": "code",
   "execution_count": null,
   "metadata": {},
   "outputs": [],
   "source": []
  },
  {
   "cell_type": "code",
   "execution_count": null,
   "metadata": {},
   "outputs": [],
   "source": [
    "# cyl ave direction\n",
    "norms = open3d.geometry.PointCloud()\n",
    "norms.points = cyl.normals\n",
    "open3d.visualization.draw_geometries([norms])\n",
    "ave = np.average(np.asarray(cyl.normals), axis=0)\n",
    "print(ave)"
   ]
  },
  {
   "cell_type": "code",
   "execution_count": null,
   "metadata": {},
   "outputs": [],
   "source": [
    "# chuck ave direction\n",
    "norms = open3d.geometry.PointCloud()\n",
    "for n in downpcd.normals:\n",
    "    if np.linalg.norm(n) != 0.0:\n",
    "        norms.points.append(n)\n",
    "open3d.visualization.draw_geometries([norms])\n",
    "ave = np.average(np.asarray(norms.points), axis=0)\n",
    "print(ave)"
   ]
  },
  {
   "cell_type": "code",
   "execution_count": 17,
   "metadata": {},
   "outputs": [
    {
     "name": "stdout",
     "output_type": "stream",
     "text": [
      "[0.05874388 0.15082348 0.98681378]\n",
      "[0.06386953 0.22572369 0.97209542]\n",
      "[0.05850996 0.23415001 0.97043823]\n",
      "[0.04356849 0.23227679 0.97167344]\n",
      "[0.032997   0.22879766 0.97291461]\n",
      "[0.02971435 0.22644823 0.97356985]\n"
     ]
    }
   ],
   "source": [
    "from scipy import stats\n",
    "def FindDir(demo):\n",
    "    norms = open3d.geometry.PointCloud()\n",
    "    for n in demo.normals:\n",
    "        if np.linalg.norm(n) != 0.0:\n",
    "            norms.points.append(n)\n",
    "    norms.paint_uniform_color([0.5, 0.5, 0.5])\n",
    "    open3d.visualization.draw_geometries([norms])\n",
    "    initials = np.asarray(norms.points)\n",
    "    goods = np.ones(initials.shape[0]).astype(bool)\n",
    "    index = np.where(goods>0)\n",
    "    ave = np.average(initials[goods, :], axis=0)\n",
    "    ave = ave / np.linalg.norm(ave)\n",
    "    print(ave)\n",
    "    ratio = 2\n",
    "    for i in range(5):\n",
    "        z = np.abs(stats.zscore(initials[goods, :], axis=0))\n",
    "        goods[index] = (z < 2).all(axis=1)\n",
    "        index  = np.where(goods)\n",
    "        norms.paint_uniform_color([0.5, 0.5, 0.5])\n",
    "        np.asarray(norms.colors)[goods, :] = [1, 0, 0]\n",
    "        ave = np.average(initials[goods, :], axis=0)\n",
    "        ave = ave / np.linalg.norm(ave)\n",
    "        open3d.visualization.draw_geometries([norms])\n",
    "        print(ave)\n",
    "    return ave\n",
    "        \n",
    "ave = FindDir(downpcd)"
   ]
  },
  {
   "cell_type": "code",
   "execution_count": 18,
   "metadata": {
    "scrolled": true
   },
   "outputs": [],
   "source": [
    "# print centerline\n",
    "# center = np.average(np.asarray(downpcd.points), axis=0)\n",
    "points = np.asarray(downpcd.points)\n",
    "xmax, ymax, zmax = np.max(points, axis=0)\n",
    "xmin, ymin, zmin = np.min(points, axis=0)\n",
    "center = np.array([(xmax+xmin)/2, (ymax+ymin)/2, (zmax+zmin)/2])\n",
    "linepoints = [center-ave*3, center+ave*3]\n",
    "lines = [[0, 1]]\n",
    "line_set = open3d.geometry.LineSet(\n",
    "    points=open3d.utility.Vector3dVector(linepoints),\n",
    "    lines=open3d.utility.Vector2iVector(lines),\n",
    ")\n",
    "open3d.visualization.draw_geometries([downpcd, line_set])"
   ]
  },
  {
   "cell_type": "raw",
   "metadata": {},
   "source": []
  },
  {
   "cell_type": "code",
   "execution_count": null,
   "metadata": {},
   "outputs": [],
   "source": []
  },
  {
   "cell_type": "code",
   "execution_count": null,
   "metadata": {},
   "outputs": [],
   "source": [
    "def cart2sph(x, y, z):\n",
    "    hxy = np.hypot(x, y)\n",
    "    r = np.hypot(hxy, z)\n",
    "    el = np.arctan2(z, hxy)\n",
    "    az = np.arctan2(y, x)\n",
    "    return az, el, r\n",
    "\n",
    "thetas = np.zeros((len(downpcd.normals), 3))\n",
    "corr = open3d.geometry.PointCloud()\n",
    "for i in range(len(downpcd.normals)):\n",
    "    theta = cart2sph(downpcd.normals[i][0], downpcd.normals[i][1], downpcd.normals[i][2])\n",
    "    thetas[i, :] = theta\n",
    "    corr.points.append(theta)\n",
    "open3d.visualization.draw_geometries([corr])"
   ]
  },
  {
   "cell_type": "code",
   "execution_count": null,
   "metadata": {},
   "outputs": [],
   "source": [
    "import matplotlib.pyplot as plt\n",
    "plt.scatter(thetas[:, 0], thetas[:, 1], marker='.')\n",
    "plt.show()"
   ]
  },
  {
   "cell_type": "code",
   "execution_count": null,
   "metadata": {},
   "outputs": [],
   "source": []
  },
  {
   "cell_type": "code",
   "execution_count": null,
   "metadata": {},
   "outputs": [],
   "source": []
  },
  {
   "cell_type": "code",
   "execution_count": null,
   "metadata": {},
   "outputs": [],
   "source": [
    "order = np.argsort(points[:, 2])\n",
    "sortedpoints = points[order]"
   ]
  },
  {
   "cell_type": "code",
   "execution_count": 14,
   "metadata": {},
   "outputs": [
    {
     "name": "stdout",
     "output_type": "stream",
     "text": [
      "[0.02971435 0.22644823 0.97356985]\n"
     ]
    }
   ],
   "source": [
    "direction = ave / np.linalg.norm(ave)\n",
    "print(direction)\n",
    "ori_dire = [0, -direction[2], direction[1]]\n",
    "ori_dire = ori_dire / np.linalg.norm(ori_dire)\n",
    "\n",
    "allpoints = np.asarray(pc.points)\n",
    "vpc = allpoints - center\n",
    "projected_l = np.dot(vpc, direction).reshape(-1, 1)\n",
    "projected_p = center + projected_l * direction\n",
    "vpr = allpoints - projected_p\n",
    "r = np.linalg.norm(vpr, axis=1).reshape(-1, 1)\n",
    "vpr = vpr / r\n",
    "cos_theta = np.dot(vpr, ori_dire)\n",
    "cos_theta = np.minimum(1, np.maximum(cos_theta, -1))\n",
    "theta = np.arccos(cos_theta)\n",
    "theta[vpr[:,0] < 0] *= -1"
   ]
  },
  {
   "cell_type": "code",
   "execution_count": null,
   "metadata": {},
   "outputs": [],
   "source": []
  },
  {
   "cell_type": "code",
   "execution_count": 15,
   "metadata": {},
   "outputs": [
    {
     "data": {
      "image/png": "[encoded data removed]",
      "text/plain": [
       "<Figure size 432x288 with 1 Axes>"
      ]
     },
     "metadata": {
      "needs_background": "light"
     },
     "output_type": "display_data"
    },
    {
     "name": "stdout",
     "output_type": "stream",
     "text": [
      "0.6110611443444569\n"
     ]
    }
   ],
   "source": [
    "import matplotlib.pyplot as plt\n",
    "plt.scatter(projected_l, theta, marker='.')\n",
    "plt.show()\n",
    "print(np.mean(r))"
   ]
  },
  {
   "cell_type": "code",
   "execution_count": null,
   "metadata": {},
   "outputs": [],
   "source": []
  }
 ],
 "metadata": {
  "kernelspec": {
   "display_name": "tf",
   "language": "python",
   "name": "tf"
  },
  "language_info": {
   "codemirror_mode": {
    "name": "ipython",
    "version": 3
   },
   "file_extension": ".py",
   "mimetype": "text/x-python",
   "name": "python",
   "nbconvert_exporter": "python",
   "pygments_lexer": "ipython3",
   "version": "3.7.1"
  }
 },
 "nbformat": 4,
 "nbformat_minor": 4
}
