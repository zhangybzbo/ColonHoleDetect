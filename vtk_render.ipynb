{
 "cells": [
  {
   "cell_type": "code",
   "execution_count": 84,
   "metadata": {},
   "outputs": [],
   "source": [
    "import vtk\n",
    "\n",
    "ColorBackground = [0.0, 0.0, 0.0]\n",
    "Path = 'mesh_i1_n0.4.obj'"
   ]
  },
  {
   "cell_type": "code",
   "execution_count": 85,
   "metadata": {},
   "outputs": [],
   "source": [
    "reader = vtk.vtkOBJReader()\n",
    "reader.SetFileName(Path)\n",
    "reader.Update()"
   ]
  },
  {
   "cell_type": "code",
   "execution_count": 86,
   "metadata": {},
   "outputs": [],
   "source": [
    "def render_obj(objects):\n",
    "    # mapper, vtkPolyData to graphics primitives\n",
    "    mapper = vtk.vtkPolyDataMapper()\n",
    "    mapper.SetInputData(objects)\n",
    "\n",
    "    # actor, represents an object (geometry & properties) in a rendered scene\n",
    "    actor = vtk.vtkActor()\n",
    "    actor.SetMapper(mapper)\n",
    "    \n",
    "    # renderer\n",
    "    ren = vtk.vtkRenderer()\n",
    "    ren.SetBackground(ColorBackground)\n",
    "    ren.AddActor(actor)\n",
    "\n",
    "    # render window\n",
    "    renWin = vtk.vtkRenderWindow()\n",
    "    renWin.AddRenderer(ren)\n",
    "\n",
    "    # Create a renderwindowinteractor\n",
    "    iren = vtk.vtkRenderWindowInteractor()\n",
    "    iren.SetRenderWindow(renWin)\n",
    "    \n",
    "    # visualize\n",
    "    iren.Initialize()\n",
    "    renWin.Render()\n",
    "    iren.Start()"
   ]
  },
  {
   "cell_type": "code",
   "execution_count": 87,
   "metadata": {},
   "outputs": [],
   "source": [
    "render_obj(reader.GetOutput())"
   ]
  },
  {
   "cell_type": "code",
   "execution_count": 88,
   "metadata": {},
   "outputs": [],
   "source": [
    "obj = reader.GetOutput()"
   ]
  },
  {
   "cell_type": "code",
   "execution_count": 89,
   "metadata": {},
   "outputs": [],
   "source": [
    "def add_texture(objects, target_color):\n",
    "    colors = vtk.vtkUnsignedCharArray()\n",
    "    colors.SetName(\"colors\")\n",
    "    colors.SetNumberOfComponents(3)\n",
    "    for i in range(objects.GetNumberOfPoints()):\n",
    "        colors.InsertNextTypedTuple(target_color[i])\n",
    "    objects.GetPointData().SetScalars(colors)\n",
    "    return objects"
   ]
  },
  {
   "cell_type": "code",
   "execution_count": 90,
   "metadata": {},
   "outputs": [],
   "source": [
    "# obj = add_texture(obj)\n",
    "# render_obj(obj)"
   ]
  },
  {
   "cell_type": "code",
   "execution_count": 91,
   "metadata": {},
   "outputs": [],
   "source": [
    "def smooth_surface(objects):\n",
    "    smoother = vtk.vtkSmoothPolyDataFilter()\n",
    "    smoother.SetInputData(objects)\n",
    "    smoother.SetNumberOfIterations(20)\n",
    "    smoother.SetRelaxationFactor(0.1)\n",
    "    smoother.FeatureEdgeSmoothingOff()\n",
    "    smoother.BoundarySmoothingOn()\n",
    "    smoother.Update()\n",
    "    return smoother.GetOutput()"
   ]
  },
  {
   "cell_type": "code",
   "execution_count": 92,
   "metadata": {},
   "outputs": [],
   "source": [
    "obj = smooth_surface(obj)\n",
    "render_obj(obj)"
   ]
  },
  {
   "cell_type": "code",
   "execution_count": 93,
   "metadata": {},
   "outputs": [],
   "source": [
    "def fill_hole(objects, size):\n",
    "    filler = vtk.vtkFillHolesFilter()\n",
    "    filler.SetInputData(objects)\n",
    "    filler.SetHoleSize(size)\n",
    "    filler.Update()\n",
    "    return filler.GetOutput()"
   ]
  },
  {
   "cell_type": "code",
   "execution_count": 94,
   "metadata": {},
   "outputs": [],
   "source": [
    "filler = fill_hole(obj, 1.0)\n",
    "render_obj(filler)"
   ]
  },
  {
   "cell_type": "code",
   "execution_count": null,
   "metadata": {},
   "outputs": [],
   "source": []
  },
  {
   "cell_type": "code",
   "execution_count": null,
   "metadata": {},
   "outputs": [],
   "source": []
  },
  {
   "cell_type": "code",
   "execution_count": null,
   "metadata": {},
   "outputs": [],
   "source": []
  }
 ],
 "metadata": {
  "kernelspec": {
   "display_name": "tf",
   "language": "python",
   "name": "tf"
  },
  "language_info": {
   "codemirror_mode": {
    "name": "ipython",
    "version": 3
   },
   "file_extension": ".py",
   "mimetype": "text/x-python",
   "name": "python",
   "nbconvert_exporter": "python",
   "pygments_lexer": "ipython3",
   "version": "3.7.1"
  }
 },
 "nbformat": 4,
 "nbformat_minor": 2
}
