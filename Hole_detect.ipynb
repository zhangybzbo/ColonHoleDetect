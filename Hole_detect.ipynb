{
 "cells": [
  {
   "cell_type": "code",
   "execution_count": 1,
   "metadata": {},
   "outputs": [],
   "source": [
    "import vtk\n",
    "import math\n",
    "import matplotlib.pyplot as plt\n",
    "import numpy as np\n",
    "\n",
    "ColorBackground = [0.0, 0., 0.]\n",
    "Path = 'mesh_i1_n0.4.obj'\n",
    "\n",
    "def render_pc(pc_poly, name):\n",
    "    vertexFilter = vtk.vtkVertexGlyphFilter()\n",
    "    vertexFilter.SetInputData(pc_poly)\n",
    "    vertexFilter.Update()\n",
    "    polydata = vtk.vtkPolyData()\n",
    "    polydata.ShallowCopy(vertexFilter.GetOutput())\n",
    "    # mapper, vtkPolyData to graphics primitives\n",
    "    mapper = vtk.vtkPolyDataMapper()\n",
    "    mapper.SetInputData(polydata)\n",
    "\n",
    "    # actor, represents an object (geometry & properties) in a rendered scene\n",
    "    actor = vtk.vtkActor()\n",
    "    actor.SetMapper(mapper)\n",
    "    \n",
    "    # renderer\n",
    "    ren = vtk.vtkRenderer()\n",
    "    ren.SetBackground(ColorBackground)\n",
    "    ren.AddActor(actor)\n",
    "    ren.ResetCamera()\n",
    "\n",
    "    # render window\n",
    "    renWin = vtk.vtkRenderWindow()\n",
    "    renWin.AddRenderer(ren)\n",
    "\n",
    "    # Create a renderwindowinteractor\n",
    "    iren = vtk.vtkRenderWindowInteractor()\n",
    "    iren.SetRenderWindow(renWin)\n",
    "    \n",
    "    # visualize\n",
    "    renWin.Render()\n",
    "    windowToImageFilter = vtk.vtkWindowToImageFilter()\n",
    "    windowToImageFilter.SetInput(renWin)\n",
    "    windowToImageFilter.ReadFrontBufferOff()\n",
    "    windowToImageFilter.Update()\n",
    "    writer = vtk.vtkPNGWriter()\n",
    "    writer.SetFileName(name)\n",
    "    writer.SetInputConnection(windowToImageFilter.GetOutputPort())\n",
    "    writer.Write()\n",
    "    iren.Initialize()\n",
    "    renWin.Render()\n",
    "    iren.Start()\n",
    "    \n",
    "def visual_img(vtk_img, name=None):\n",
    "    mapper = vtk.vtkDataSetMapper()\n",
    "    mapper.SetInputData(vtk_img)\n",
    "    Actor = vtk.vtkActor()\n",
    "    Actor.SetMapper(mapper)\n",
    "    Renderer = vtk.vtkRenderer()\n",
    "    Renderer.AddActor(Actor)\n",
    "    Renderer.ResetCamera()\n",
    "    renWin = vtk.vtkRenderWindow()\n",
    "    renWin.AddRenderer(Renderer)\n",
    "    iren = vtk.vtkRenderWindowInteractor()\n",
    "    iren.SetRenderWindow(renWin)\n",
    "    # visualize\n",
    "    if name:\n",
    "        renWin.Render()\n",
    "        windowToImageFilter = vtk.vtkWindowToImageFilter()\n",
    "        windowToImageFilter.SetInput(renWin)\n",
    "        windowToImageFilter.ReadFrontBufferOff()\n",
    "        windowToImageFilter.Update()\n",
    "        writer = vtk.vtkPNGWriter()\n",
    "        writer.SetFileName(name)\n",
    "        writer.SetInputConnection(windowToImageFilter.GetOutputPort())\n",
    "        writer.Write()\n",
    "    iren.Initialize()\n",
    "    renWin.Render()\n",
    "    iren.Start()"
   ]
  },
  {
   "cell_type": "code",
   "execution_count": null,
   "metadata": {},
   "outputs": [],
   "source": []
  },
  {
   "cell_type": "code",
   "execution_count": null,
   "metadata": {},
   "outputs": [],
   "source": []
  },
  {
   "cell_type": "code",
   "execution_count": 2,
   "metadata": {},
   "outputs": [],
   "source": [
    "#v2 scale of cross section ave radius \n",
    "class colon(object):\n",
    "    def __init__(self, path):\n",
    "        reader = vtk.vtkOBJReader()\n",
    "        reader.SetFileName(Path)\n",
    "        reader.Update()\n",
    "        self.obj = reader.GetOutput()               \n",
    "        self.math = vtk.vtkMath()\n",
    "        \n",
    "        # renderer\n",
    "        self.ren = vtk.vtkRenderer()\n",
    "        self.ren.SetBackground(ColorBackground)\n",
    "        self.actors = {}\n",
    "        \n",
    "        # add colon\n",
    "        # self.add_render(self.obj, 'main')\n",
    "        \n",
    "    \n",
    "    def add_render(self, obj, name, color=None):\n",
    "        # mapper, vtkPolyData to graphics primitives\n",
    "        mapper = vtk.vtkPolyDataMapper()\n",
    "        mapper.SetInputData(obj)\n",
    "        # actor, represents an object (geometry & properties) in a rendered scene\n",
    "        actor = vtk.vtkActor()\n",
    "        actor.SetMapper(mapper)\n",
    "        if color:\n",
    "            actor.GetProperty().SetColor(color)\n",
    "        \n",
    "        self.actors[name] = actor\n",
    "        self.ren.AddActor(self.actors[name])\n",
    "    \n",
    "    def remove_render(self, name):\n",
    "        self.ren.RemoveActor(self.actors[name])\n",
    "        del self.actors[name]\n",
    "    \n",
    "    def visual(self):        \n",
    "        # render window\n",
    "        renWin = vtk.vtkRenderWindow()\n",
    "        renWin.AddRenderer(self.ren)\n",
    "        # Create a renderwindowinteractor\n",
    "        iren = vtk.vtkRenderWindowInteractor()\n",
    "        iren.SetRenderWindow(renWin)\n",
    "        # visualize\n",
    "        iren.Initialize()\n",
    "        renWin.Render()\n",
    "        iren.Start()\n",
    "        \n",
    "    def set_centerline(self, resolution):\n",
    "        xmin,xmax, ymin,ymax, zmin,zmax = self.obj.GetBounds()\n",
    "        center = self.obj.GetCenter() # colon center\n",
    "        # key points\n",
    "        pts = vtk.vtkPoints()\n",
    "        pts.InsertNextPoint([center[0], center[1], zmin])\n",
    "        pts.InsertNextPoint(center)\n",
    "        pts.InsertNextPoint([center[0], center[1], zmax])\n",
    "        \n",
    "        # spline from keypoints\n",
    "        spline = vtk.vtkParametricSpline() \n",
    "        spline.SetPoints(pts)\n",
    "        function = vtk.vtkParametricFunctionSource()\n",
    "        function.SetParametricFunction(spline)\n",
    "        function.Update()\n",
    "        function.SetUResolution(resolution)\n",
    "        function.Update()\n",
    "        self.centerline = function.GetOutput() # centerline\n",
    "        self.cl_scale = (zmax-zmin)/resolution\n",
    "        \n",
    "        # centerline direction, [0, 0, 1]\n",
    "        self.direction = [0, 0, zmax-zmin]\n",
    "        self.math.Normalize(self.direction) \n",
    "        \n",
    "    def cs_cut(self, scale):\n",
    "        assert scale in ['cs', 'global']\n",
    "        \n",
    "        # all tangents [0, 0, 1]\n",
    "        N = self.centerline.GetNumberOfPoints()\n",
    "        Tangents = vtk.vtkDoubleArray()\n",
    "        Tangents.SetNumberOfComponents(3)\n",
    "        Tangents.SetNumberOfTuples(N)\n",
    "        for i in range(N):\n",
    "            Tangents.SetTuple(i, self.direction) \n",
    "            \n",
    "        # cutter, find cross section\n",
    "        cutter = vtk.vtkCutter()\n",
    "        cutter.SetInputData(self.obj)\n",
    "        connectivityFilter = vtk.vtkPolyDataConnectivityFilter()\n",
    "        connectivityFilter.SetInputConnection(cutter.GetOutputPort())\n",
    "        connectivityFilter.SetExtractionModeToClosestPointRegion()\n",
    "        plane = vtk.vtkPlane()\n",
    "        self.all_cs = {}\n",
    "        self.cs_deform = vtk.vtkPolyData()\n",
    "        self.cs_points = vtk.vtkPoints()\n",
    "        self.arrays = [[], []]        \n",
    "        dis_ls = []\n",
    "        theta_ls = []\n",
    "        i_index = []\n",
    "        self.point_mapping = []\n",
    "        \n",
    "        for i in range(N):\n",
    "            # cut, get cross section\n",
    "            centerPoint = [0] * 3\n",
    "            self.centerline.GetPoint(i, centerPoint)\n",
    "            connectivityFilter.SetClosestPoint(centerPoint)\n",
    "            plane.SetOrigin(self.centerline.GetPoint(i))\n",
    "            plane.SetNormal(Tangents.GetTuple(i))\n",
    "            cutter.SetCutFunction(plane)\n",
    "            cutter.Update()\n",
    "            connectivityFilter.Update()\n",
    "            cutline = cutter.GetOutput()\n",
    "            \n",
    "            newcut = vtk.vtkPolyData()\n",
    "            newcut.DeepCopy(cutline)\n",
    "            self.all_cs[i] = newcut\n",
    "            self.add_render(newcut, 'cut%d' % i, (255, 0, 0))\n",
    "                        \n",
    "            n_p = newcut.GetNumberOfPoints()\n",
    "            \n",
    "            # origin direction on plane, [0, tz, -ty]\n",
    "            # TODO: nake sure tangent not [1, 0, 0]\n",
    "            tangent_d = Tangents.GetTuple(i)\n",
    "            origin_d = [0, tangent_d[2], -tangent_d[1]]\n",
    "            self.math.Normalize(origin_d)\n",
    "            if scale == 'cs':\n",
    "                dis_ls = []\n",
    "                theta_ls = []\n",
    "            for j in range(n_p):\n",
    "                p = newcut.GetPoint(j)\n",
    "                dj = [0] * 3\n",
    "                self.math.Subtract(p, centerPoint, dj)\n",
    "                self.math.Normalize(dj)\n",
    "                cos_theta = self.math.Dot(origin_d, dj)\n",
    "                cos_theta = min(1, max(cos_theta, -1))\n",
    "                theta = math.acos(cos_theta)\n",
    "                if dj[0] < 0:\n",
    "                    theta = - theta\n",
    "                dis = self.math.Distance2BetweenPoints(centerPoint, p)\n",
    "                dis = dis**0.5\n",
    "                dis_ls.append(dis)\n",
    "                theta_ls.append(theta)\n",
    "                i_index.append(i)\n",
    "                self.point_mapping.append((i, j))\n",
    "                if scale == 'global': # over sample\n",
    "                    if theta >= math.pi / 2:\n",
    "                        theta_ls.append(-math.pi * 2 + theta)\n",
    "                        i_index.append(i)\n",
    "                        self.point_mapping.append((i, j))\n",
    "        \n",
    "            # distance weight\n",
    "            if scale == 'cs':\n",
    "                ave_dis = np.average(np.array(dis_ls))\n",
    "                for j in range(n_p):\n",
    "                    self.arrays[0].append(i*self.cl_scale)\n",
    "                    self.arrays[1].append(ave_dis*theta_ls[j])\n",
    "                    self.cs_points.InsertNextPoint(i*self.cl_scale, ave_dis*theta_ls[j], 0)   \n",
    "        \n",
    "        # ave dis\n",
    "        if scale == 'global':\n",
    "            ave_dis = np.average(np.array(dis_ls))\n",
    "            for i, theta in enumerate(theta_ls):\n",
    "                self.arrays[0].append(i_index[i]*self.cl_scale)\n",
    "                self.arrays[1].append(ave_dis*theta)\n",
    "                self.cs_points.InsertNextPoint(i_index[i]*self.cl_scale, ave_dis*theta, 0)   \n",
    "            \n",
    "        self.cs_deform.SetPoints(self.cs_points)\n",
    "        "
   ]
  },
  {
   "cell_type": "code",
   "execution_count": 3,
   "metadata": {},
   "outputs": [
    {
     "name": "stderr",
     "output_type": "stream",
     "text": [
      "C:\\Users\\zhang\\Anaconda3\\envs\\tf\\lib\\site-packages\\numpy\\lib\\function_base.py:393: RuntimeWarning: Mean of empty slice.\n",
      "  avg = a.mean(axis)\n",
      "C:\\Users\\zhang\\Anaconda3\\envs\\tf\\lib\\site-packages\\numpy\\core\\_methods.py:161: RuntimeWarning: invalid value encountered in double_scalars\n",
      "  ret = ret.dtype.type(ret / rcount)\n"
     ]
    }
   ],
   "source": [
    "objects_v2 = colon(Path)\n",
    "objects_v2.set_centerline(200)\n",
    "objects_v2.add_render(objects_v2.centerline, 'centerline', (255, 255, 0))\n",
    "objects_v2.cs_cut('cs')\n",
    "objects_v2.visual()\n",
    "# plt.plot(np.array(objects_v2.arrays[0]), np.array(objects_v2.arrays[1]), 'ro')\n",
    "# plt.show()\n",
    "render_pc(objects_v2.cs_deform, 'v2.png')"
   ]
  },
  {
   "cell_type": "code",
   "execution_count": 4,
   "metadata": {},
   "outputs": [],
   "source": [
    "objects_v3 = colon(Path)\n",
    "objects_v3.set_centerline(200)\n",
    "objects_v3.add_render(objects_v3.centerline, 'centerline', (255, 255, 0))\n",
    "objects_v3.cs_cut('global')\n",
    "objects_v3.visual()\n",
    "# plt.plot(np.array(objects_v2.arrays[0]), np.array(objects_v2.arrays[1]), 'ro')\n",
    "# plt.show()\n",
    "render_pc(objects_v3.cs_deform, 'v3.png')"
   ]
  },
  {
   "cell_type": "code",
   "execution_count": null,
   "metadata": {},
   "outputs": [],
   "source": []
  },
  {
   "cell_type": "code",
   "execution_count": null,
   "metadata": {},
   "outputs": [],
   "source": []
  },
  {
   "cell_type": "code",
   "execution_count": 6,
   "metadata": {},
   "outputs": [],
   "source": [
    "def np_img(obj, scale=255):\n",
    "    y = np.array(obj.arrays[1])\n",
    "    ymax, ymin = y.max(), y.min()\n",
    "    ysize = int((ymax - ymin) // obj.cl_scale + 1)\n",
    "    y = (y - ymin) // obj.cl_scale\n",
    "    x = (np.array(obj.arrays[0]) + obj.cl_scale/2) // obj.cl_scale\n",
    "    xsize = int(x.max() + 1)\n",
    "    img = np.zeros((xsize, ysize), dtype=np.uint8)\n",
    "    point_mapping = {}\n",
    "    for i in range(x.shape[0]):\n",
    "        img[int(x[i]), int(y[i])] = scale\n",
    "        point_mapping[(int(x[i]), int(y[i]))] = i\n",
    "    return img, point_mapping"
   ]
  },
  {
   "cell_type": "code",
   "execution_count": null,
   "metadata": {},
   "outputs": [],
   "source": [
    "def opening(img, kernel=3):\n",
    "    dilate = vtk.vtkImageDilateErode3D()\n",
    "    dilate.SetInputData(vtk_img)\n",
    "    dilate.SetDilateValue(0)\n",
    "    dilate.SetErodeValue(255)\n",
    "    dilate.SetKernelSize(kernel, kernel, 1)\n",
    "\n",
    "    erode = vtk.vtkImageDilateErode3D()\n",
    "    erode.SetInputConnection(dilate.GetOutputPort())\n",
    "    erode.SetDilateValue(255)\n",
    "    erode.SetErodeValue(0)\n",
    "    erode.SetKernelSize(kernel, kernel, 1)\n",
    "    erode.Update()\n",
    "    \n",
    "    return erode.GetOutput()\n",
    "\n",
    "def closing(img, kernel=3):\n",
    "    erode = vtk.vtkImageDilateErode3D()\n",
    "    erode.SetInputData(img)\n",
    "    erode.SetDilateValue(255)\n",
    "    erode.SetErodeValue(0)\n",
    "    erode.SetKernelSize(kernel, kernel, 1)\n",
    "\n",
    "    dilate = vtk.vtkImageDilateErode3D()\n",
    "    dilate.SetInputConnection(erode.GetOutputPort())\n",
    "    dilate.SetDilateValue(0)\n",
    "    dilate.SetErodeValue(255)\n",
    "    dilate.SetKernelSize(kernel, kernel, 1)\n",
    "    dilate.Update()\n",
    "    \n",
    "    return dilate.GetOutput()"
   ]
  },
  {
   "cell_type": "code",
   "execution_count": null,
   "metadata": {},
   "outputs": [],
   "source": [
    "# morphology\n",
    "from vtk.util import numpy_support\n",
    "img, mapping = np_img(objects_v3)\n",
    "plt.imshow(img)\n",
    "VTK_data = numpy_support.numpy_to_vtk(num_array=img.ravel(), deep=True, array_type=vtk.VTK_UNSIGNED_CHAR)\n",
    "vtk_img = vtk.vtkImageData()\n",
    "vtk_img.SetDimensions(img.shape[1], img.shape[0], 1)\n",
    "vtk_img.SetSpacing([1, 1, 1])\n",
    "vtk_img.SetOrigin([0, 0, 0])\n",
    "vtk_img.GetPointData().SetScalars(VTK_data)\n",
    "\n",
    "# visual_img(vtk_img, 'v2_2d.png')\n",
    "#vtk_img = opening(vtk_img)\n",
    "vtk_img = closing(vtk_img)\n",
    "visual_img(vtk_img)"
   ]
  },
  {
   "cell_type": "code",
   "execution_count": null,
   "metadata": {},
   "outputs": [],
   "source": [
    "# hole detection\n",
    "from scipy import ndimage\n",
    "rows, cols, _ = vtk_img.GetDimensions()\n",
    "sc = vtk_img.GetPointData().GetScalars()\n",
    "img = numpy_support.vtk_to_numpy(sc)\n",
    "img = 255 - img.reshape(cols, rows)\n",
    "plt.imshow(img)\n",
    "threshold = 10\n",
    "labeled, nr_objects = ndimage.label(img > threshold) \n",
    "print(\"Number of holes is {}\".format(nr_objects))"
   ]
  },
  {
   "cell_type": "code",
   "execution_count": null,
   "metadata": {},
   "outputs": [],
   "source": [
    "# hole edges\n",
    "import skimage.feature\n",
    "edges = skimage.feature.canny(image=img)\n",
    "plt.imshow(edges)"
   ]
  },
  {
   "cell_type": "code",
   "execution_count": 18,
   "metadata": {},
   "outputs": [
    {
     "name": "stdout",
     "output_type": "stream",
     "text": [
      "Number of holes is 3\n"
     ]
    },
    {
     "data": {
      "image/png": "[encoded data removed]",
      "text/plain": [
       "<Figure size 432x288 with 1 Axes>"
      ]
     },
     "metadata": {
      "needs_background": "light"
     },
     "output_type": "display_data"
    }
   ],
   "source": [
    "from skimage import morphology\n",
    "from scipy import ndimage\n",
    "img, mapping = np_img(objects_v2, scale=1)\n",
    "img = morphology.binary_closing(img, morphology.diamond(2)).astype(np.uint8)\n",
    "img = morphology.binary_opening(img, morphology.diamond(2)).astype(np.uint8)\n",
    "plt.imshow(img)\n",
    "labeled, nr_objects = ndimage.label(img < 1) \n",
    "print(\"Number of holes is {}\".format(nr_objects))"
   ]
  },
  {
   "cell_type": "code",
   "execution_count": 19,
   "metadata": {},
   "outputs": [
    {
     "data": {
      "text/plain": [
       "<matplotlib.image.AxesImage at 0x1c631c6a2b0>"
      ]
     },
     "execution_count": 19,
     "metadata": {},
     "output_type": "execute_result"
    },
    {
     "data": {
      "image/png": "[encoded data removed]",
      "text/plain": [
       "<Figure size 432x288 with 1 Axes>"
      ]
     },
     "metadata": {
      "needs_background": "light"
     },
     "output_type": "display_data"
    }
   ],
   "source": [
    "# hole edges\n",
    "import skimage.feature\n",
    "edges = skimage.feature.canny(image=img*255)\n",
    "plt.imshow(edges)"
   ]
  },
  {
   "cell_type": "code",
   "execution_count": 20,
   "metadata": {},
   "outputs": [
    {
     "data": {
      "text/plain": [
       "<matplotlib.image.AxesImage at 0x1c6322e6da0>"
      ]
     },
     "execution_count": 20,
     "metadata": {},
     "output_type": "execute_result"
    },
    {
     "data": {
      "image/png": "[encoded data removed]",
      "text/plain": [
       "<Figure size 432x288 with 1 Axes>"
      ]
     },
     "metadata": {
      "needs_background": "light"
     },
     "output_type": "display_data"
    }
   ],
   "source": [
    "edges = morphology.binary_dilation(edges, morphology.diamond(1)).astype(np.uint8)\n",
    "plt.imshow(edges)"
   ]
  },
  {
   "cell_type": "code",
   "execution_count": null,
   "metadata": {},
   "outputs": [],
   "source": [
    "np.where(edges>0)[0].shape"
   ]
  },
  {
   "cell_type": "code",
   "execution_count": null,
   "metadata": {},
   "outputs": [],
   "source": []
  }
 ],
 "metadata": {
  "kernelspec": {
   "display_name": "tf",
   "language": "python",
   "name": "tf"
  },
  "language_info": {
   "codemirror_mode": {
    "name": "ipython",
    "version": 3
   },
   "file_extension": ".py",
   "mimetype": "text/x-python",
   "name": "python",
   "nbconvert_exporter": "python",
   "pygments_lexer": "ipython3",
   "version": "3.7.1"
  }
 },
 "nbformat": 4,
 "nbformat_minor": 2
}
